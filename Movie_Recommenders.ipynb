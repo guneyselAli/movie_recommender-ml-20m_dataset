{
 "cells": [
  {
   "cell_type": "code",
   "execution_count": 50,
   "metadata": {},
   "outputs": [],
   "source": [
    "import pandas as pd\n",
    "import re\n",
    "from sklearn.metrics.pairwise import cosine_similarity\n",
    "from sklearn.feature_extraction.text import TfidfVectorizer\n",
    "from surprise import Reader, SVD, Dataset, accuracy\n",
    "from surprise.model_selection import train_test_split\n",
    "import numpy as np"
   ]
  },
  {
   "cell_type": "markdown",
   "metadata": {},
   "source": [
    "### **Reading the datasets**"
   ]
  },
  {
   "cell_type": "code",
   "execution_count": 2,
   "metadata": {},
   "outputs": [],
   "source": [
    "movies_df = pd.read_csv(\"ml-20m/movies.csv\")\n",
    "ratings_df = pd.read_csv(\"ml-20m/ratings.csv\")\n",
    "tags_df = pd.read_csv(\"ml-20m/tags.csv\")"
   ]
  },
  {
   "cell_type": "code",
   "execution_count": 3,
   "metadata": {},
   "outputs": [
    {
     "data": {
      "text/html": [
       "<div>\n",
       "<style scoped>\n",
       "    .dataframe tbody tr th:only-of-type {\n",
       "        vertical-align: middle;\n",
       "    }\n",
       "\n",
       "    .dataframe tbody tr th {\n",
       "        vertical-align: top;\n",
       "    }\n",
       "\n",
       "    .dataframe thead th {\n",
       "        text-align: right;\n",
       "    }\n",
       "</style>\n",
       "<table border=\"1\" class=\"dataframe\">\n",
       "  <thead>\n",
       "    <tr style=\"text-align: right;\">\n",
       "      <th></th>\n",
       "      <th>movieId</th>\n",
       "      <th>title</th>\n",
       "      <th>genres</th>\n",
       "    </tr>\n",
       "  </thead>\n",
       "  <tbody>\n",
       "    <tr>\n",
       "      <th>0</th>\n",
       "      <td>1</td>\n",
       "      <td>Toy Story (1995)</td>\n",
       "      <td>Adventure|Animation|Children|Comedy|Fantasy</td>\n",
       "    </tr>\n",
       "    <tr>\n",
       "      <th>1</th>\n",
       "      <td>2</td>\n",
       "      <td>Jumanji (1995)</td>\n",
       "      <td>Adventure|Children|Fantasy</td>\n",
       "    </tr>\n",
       "  </tbody>\n",
       "</table>\n",
       "</div>"
      ],
      "text/plain": [
       "   movieId             title                                       genres\n",
       "0        1  Toy Story (1995)  Adventure|Animation|Children|Comedy|Fantasy\n",
       "1        2    Jumanji (1995)                   Adventure|Children|Fantasy"
      ]
     },
     "execution_count": 3,
     "metadata": {},
     "output_type": "execute_result"
    }
   ],
   "source": [
    "movies_df.head(2)"
   ]
  },
  {
   "cell_type": "code",
   "execution_count": 4,
   "metadata": {},
   "outputs": [
    {
     "data": {
      "text/html": [
       "<div>\n",
       "<style scoped>\n",
       "    .dataframe tbody tr th:only-of-type {\n",
       "        vertical-align: middle;\n",
       "    }\n",
       "\n",
       "    .dataframe tbody tr th {\n",
       "        vertical-align: top;\n",
       "    }\n",
       "\n",
       "    .dataframe thead th {\n",
       "        text-align: right;\n",
       "    }\n",
       "</style>\n",
       "<table border=\"1\" class=\"dataframe\">\n",
       "  <thead>\n",
       "    <tr style=\"text-align: right;\">\n",
       "      <th></th>\n",
       "      <th>userId</th>\n",
       "      <th>movieId</th>\n",
       "      <th>rating</th>\n",
       "      <th>timestamp</th>\n",
       "    </tr>\n",
       "  </thead>\n",
       "  <tbody>\n",
       "    <tr>\n",
       "      <th>0</th>\n",
       "      <td>1</td>\n",
       "      <td>2</td>\n",
       "      <td>3.5</td>\n",
       "      <td>1112486027</td>\n",
       "    </tr>\n",
       "    <tr>\n",
       "      <th>1</th>\n",
       "      <td>1</td>\n",
       "      <td>29</td>\n",
       "      <td>3.5</td>\n",
       "      <td>1112484676</td>\n",
       "    </tr>\n",
       "  </tbody>\n",
       "</table>\n",
       "</div>"
      ],
      "text/plain": [
       "   userId  movieId  rating   timestamp\n",
       "0       1        2     3.5  1112486027\n",
       "1       1       29     3.5  1112484676"
      ]
     },
     "execution_count": 4,
     "metadata": {},
     "output_type": "execute_result"
    }
   ],
   "source": [
    "ratings_df.head(2)"
   ]
  },
  {
   "cell_type": "code",
   "execution_count": 5,
   "metadata": {},
   "outputs": [
    {
     "data": {
      "text/html": [
       "<div>\n",
       "<style scoped>\n",
       "    .dataframe tbody tr th:only-of-type {\n",
       "        vertical-align: middle;\n",
       "    }\n",
       "\n",
       "    .dataframe tbody tr th {\n",
       "        vertical-align: top;\n",
       "    }\n",
       "\n",
       "    .dataframe thead th {\n",
       "        text-align: right;\n",
       "    }\n",
       "</style>\n",
       "<table border=\"1\" class=\"dataframe\">\n",
       "  <thead>\n",
       "    <tr style=\"text-align: right;\">\n",
       "      <th></th>\n",
       "      <th>userId</th>\n",
       "      <th>movieId</th>\n",
       "      <th>tag</th>\n",
       "      <th>timestamp</th>\n",
       "    </tr>\n",
       "  </thead>\n",
       "  <tbody>\n",
       "    <tr>\n",
       "      <th>0</th>\n",
       "      <td>18</td>\n",
       "      <td>4141</td>\n",
       "      <td>Mark Waters</td>\n",
       "      <td>1240597180</td>\n",
       "    </tr>\n",
       "    <tr>\n",
       "      <th>1</th>\n",
       "      <td>65</td>\n",
       "      <td>208</td>\n",
       "      <td>dark hero</td>\n",
       "      <td>1368150078</td>\n",
       "    </tr>\n",
       "  </tbody>\n",
       "</table>\n",
       "</div>"
      ],
      "text/plain": [
       "   userId  movieId          tag   timestamp\n",
       "0      18     4141  Mark Waters  1240597180\n",
       "1      65      208    dark hero  1368150078"
      ]
     },
     "execution_count": 5,
     "metadata": {},
     "output_type": "execute_result"
    }
   ],
   "source": [
    "tags_df.head(2)"
   ]
  },
  {
   "cell_type": "markdown",
   "metadata": {},
   "source": [
    "### **Preprocessing**"
   ]
  },
  {
   "cell_type": "code",
   "execution_count": 6,
   "metadata": {},
   "outputs": [],
   "source": [
    "def clean_title(title):\n",
    "    return re.sub(\"[^a-zA-Z0-9 ]\",\"\",title)"
   ]
  },
  {
   "cell_type": "code",
   "execution_count": 7,
   "metadata": {},
   "outputs": [],
   "source": [
    "def seperate_genres(genre):\n",
    "    return \" \".join(genre.split(\"|\"))"
   ]
  },
  {
   "cell_type": "code",
   "execution_count": 8,
   "metadata": {},
   "outputs": [],
   "source": [
    "movies_df['title'] = movies_df['title'].apply(clean_title)"
   ]
  },
  {
   "cell_type": "code",
   "execution_count": 9,
   "metadata": {},
   "outputs": [],
   "source": [
    "movies_df['genres'] = movies_df['genres'].apply(seperate_genres)"
   ]
  },
  {
   "cell_type": "code",
   "execution_count": 10,
   "metadata": {},
   "outputs": [
    {
     "data": {
      "text/html": [
       "<div>\n",
       "<style scoped>\n",
       "    .dataframe tbody tr th:only-of-type {\n",
       "        vertical-align: middle;\n",
       "    }\n",
       "\n",
       "    .dataframe tbody tr th {\n",
       "        vertical-align: top;\n",
       "    }\n",
       "\n",
       "    .dataframe thead th {\n",
       "        text-align: right;\n",
       "    }\n",
       "</style>\n",
       "<table border=\"1\" class=\"dataframe\">\n",
       "  <thead>\n",
       "    <tr style=\"text-align: right;\">\n",
       "      <th></th>\n",
       "      <th>movieId</th>\n",
       "      <th>title</th>\n",
       "      <th>genres</th>\n",
       "    </tr>\n",
       "  </thead>\n",
       "  <tbody>\n",
       "    <tr>\n",
       "      <th>0</th>\n",
       "      <td>1</td>\n",
       "      <td>Toy Story 1995</td>\n",
       "      <td>Adventure Animation Children Comedy Fantasy</td>\n",
       "    </tr>\n",
       "    <tr>\n",
       "      <th>1</th>\n",
       "      <td>2</td>\n",
       "      <td>Jumanji 1995</td>\n",
       "      <td>Adventure Children Fantasy</td>\n",
       "    </tr>\n",
       "    <tr>\n",
       "      <th>2</th>\n",
       "      <td>3</td>\n",
       "      <td>Grumpier Old Men 1995</td>\n",
       "      <td>Comedy Romance</td>\n",
       "    </tr>\n",
       "  </tbody>\n",
       "</table>\n",
       "</div>"
      ],
      "text/plain": [
       "   movieId                  title                                       genres\n",
       "0        1         Toy Story 1995  Adventure Animation Children Comedy Fantasy\n",
       "1        2           Jumanji 1995                   Adventure Children Fantasy\n",
       "2        3  Grumpier Old Men 1995                               Comedy Romance"
      ]
     },
     "execution_count": 10,
     "metadata": {},
     "output_type": "execute_result"
    }
   ],
   "source": [
    "movies_df.head(3)"
   ]
  },
  {
   "cell_type": "markdown",
   "metadata": {},
   "source": [
    "### **Popularity Based Recommendation Function**"
   ]
  },
  {
   "cell_type": "code",
   "execution_count": 11,
   "metadata": {},
   "outputs": [],
   "source": [
    "#This function is only gonna return n number of popular movies when it is called.\n",
    "#The logic is gonna be finding the highest rating movies, with highest count of ratings.\n",
    "\n",
    "def popularity_based(top_n = 5, ratings_df = ratings_df, movies_df = movies_df,\n",
    "                     purpose = \"popularity\", movie_name = \"None\",\n",
    "                     return_df = False):\n",
    "    #Mean rating for each movie\n",
    "    mean_ratings = ratings_df[['movieId','rating']].groupby('movieId',as_index=False).apply(\"mean\")\n",
    "    \n",
    "    #Rating counts\n",
    "    count_ratings = ratings_df['movieId'].value_counts()\n",
    "\n",
    "    #Merging two tables\n",
    "    merged_ratings = pd.merge(mean_ratings, count_ratings, on ='movieId')\n",
    "\n",
    "    #Merging with movies table\n",
    "    final_table = pd.merge(movies_df,merged_ratings, on = 'movieId')\n",
    "    \n",
    "    #Returning the movies with more than 4.0 rating and has the highest rating count.\n",
    "    popular_n = final_table[(final_table['rating'] >= 4)].sort_values('count',ascending=False).head(top_n)\n",
    "\n",
    "    #Also returning high rating movies which have \n",
    "    #less then %10 rating count of the highest amount of times rated movie.\n",
    "    max_rating_count = final_table['count'].max()\n",
    "    less_known_n = final_table[(max_rating_count*0.01 <= final_table['count']) &(final_table['count'] <= max_rating_count*0.10)].sort_values('rating',ascending=False).head(int(top_n/2))\n",
    "\n",
    "    if return_df == False:\n",
    "        if purpose == \"content\":\n",
    "            print(f\"Top {top_n} movies similar with {movie_name}:\")\n",
    "        else:\n",
    "            print(f\"Top {top_n} movies in the world:\")\n",
    "        for i,item in enumerate(popular_n['title']):\n",
    "            print(f\"{i+1}: {item}\")\n",
    "        \n",
    "        print(f\"\\nYou may also like these hidden gems:\")\n",
    "        i = 0\n",
    "        for i,item in enumerate(less_known_n['title']):\n",
    "            print(f\"{i+1}: {item}\")\n",
    "        \n",
    "    else:\n",
    "        return popular_n"
   ]
  },
  {
   "cell_type": "code",
   "execution_count": 12,
   "metadata": {},
   "outputs": [
    {
     "name": "stdout",
     "output_type": "stream",
     "text": [
      "Top 4 movies in the world:\n",
      "1: Pulp Fiction 1994\n",
      "2: Forrest Gump 1994\n",
      "3: Shawshank Redemption The 1994\n",
      "4: Silence of the Lambs The 1991\n",
      "\n",
      "You may also like these hidden gems:\n",
      "1: Band of Brothers 2001\n",
      "2: Sunset Blvd aka Sunset Boulevard 1950\n"
     ]
    }
   ],
   "source": [
    "#Testing the function\n",
    "popularity_based(4)"
   ]
  },
  {
   "cell_type": "code",
   "execution_count": 13,
   "metadata": {},
   "outputs": [
    {
     "data": {
      "text/html": [
       "<div>\n",
       "<style scoped>\n",
       "    .dataframe tbody tr th:only-of-type {\n",
       "        vertical-align: middle;\n",
       "    }\n",
       "\n",
       "    .dataframe tbody tr th {\n",
       "        vertical-align: top;\n",
       "    }\n",
       "\n",
       "    .dataframe thead th {\n",
       "        text-align: right;\n",
       "    }\n",
       "</style>\n",
       "<table border=\"1\" class=\"dataframe\">\n",
       "  <thead>\n",
       "    <tr style=\"text-align: right;\">\n",
       "      <th></th>\n",
       "      <th>movieId</th>\n",
       "      <th>title</th>\n",
       "      <th>genres</th>\n",
       "      <th>rating</th>\n",
       "      <th>count</th>\n",
       "    </tr>\n",
       "  </thead>\n",
       "  <tbody>\n",
       "    <tr>\n",
       "      <th>293</th>\n",
       "      <td>296</td>\n",
       "      <td>Pulp Fiction 1994</td>\n",
       "      <td>Comedy Crime Drama Thriller</td>\n",
       "      <td>4.174231</td>\n",
       "      <td>67310</td>\n",
       "    </tr>\n",
       "    <tr>\n",
       "      <th>352</th>\n",
       "      <td>356</td>\n",
       "      <td>Forrest Gump 1994</td>\n",
       "      <td>Comedy Drama Romance War</td>\n",
       "      <td>4.029000</td>\n",
       "      <td>66172</td>\n",
       "    </tr>\n",
       "    <tr>\n",
       "      <th>315</th>\n",
       "      <td>318</td>\n",
       "      <td>Shawshank Redemption The 1994</td>\n",
       "      <td>Crime Drama</td>\n",
       "      <td>4.446990</td>\n",
       "      <td>63366</td>\n",
       "    </tr>\n",
       "    <tr>\n",
       "      <th>587</th>\n",
       "      <td>593</td>\n",
       "      <td>Silence of the Lambs The 1991</td>\n",
       "      <td>Crime Horror Thriller</td>\n",
       "      <td>4.177057</td>\n",
       "      <td>63299</td>\n",
       "    </tr>\n",
       "  </tbody>\n",
       "</table>\n",
       "</div>"
      ],
      "text/plain": [
       "     movieId                          title                       genres   \n",
       "293      296              Pulp Fiction 1994  Comedy Crime Drama Thriller  \\\n",
       "352      356              Forrest Gump 1994     Comedy Drama Romance War   \n",
       "315      318  Shawshank Redemption The 1994                  Crime Drama   \n",
       "587      593  Silence of the Lambs The 1991        Crime Horror Thriller   \n",
       "\n",
       "       rating  count  \n",
       "293  4.174231  67310  \n",
       "352  4.029000  66172  \n",
       "315  4.446990  63366  \n",
       "587  4.177057  63299  "
      ]
     },
     "execution_count": 13,
     "metadata": {},
     "output_type": "execute_result"
    }
   ],
   "source": [
    "popularity_based(4,return_df = True)"
   ]
  },
  {
   "cell_type": "markdown",
   "metadata": {},
   "source": [
    "### **Content Filter**"
   ]
  },
  {
   "cell_type": "code",
   "execution_count": 14,
   "metadata": {},
   "outputs": [],
   "source": [
    "#Content filtering recommendation function will take movie name as an input\n",
    "#and will return most popular movies with similar genres."
   ]
  },
  {
   "cell_type": "code",
   "execution_count": 15,
   "metadata": {},
   "outputs": [],
   "source": [
    "vectorizer_name = TfidfVectorizer()\n",
    "vectorizer_genre = TfidfVectorizer()"
   ]
  },
  {
   "cell_type": "code",
   "execution_count": 16,
   "metadata": {},
   "outputs": [],
   "source": [
    "tfidf_name =  vectorizer_name.fit_transform(movies_df['title'])\n",
    "tfidf_genre = vectorizer_genre.fit_transform(movies_df['genres'])"
   ]
  },
  {
   "cell_type": "code",
   "execution_count": 17,
   "metadata": {},
   "outputs": [],
   "source": [
    "#This function takes a movie name as an input and \n",
    "#returns most similar movie name.\n",
    "def title_searcher(input_word, top_n = 1):\n",
    "    returned_vector = vectorizer_name.transform([input_word])\n",
    "    cosine_similarities = cosine_similarity(returned_vector, tfidf_name)\n",
    "    most_similar_indexes = np.argsort(cosine_similarities[0])[-1*top_n:][::-1]\n",
    "    return movies_df.iloc[most_similar_indexes].reset_index(drop=True)"
   ]
  },
  {
   "cell_type": "code",
   "execution_count": 18,
   "metadata": {},
   "outputs": [
    {
     "data": {
      "text/html": [
       "<div>\n",
       "<style scoped>\n",
       "    .dataframe tbody tr th:only-of-type {\n",
       "        vertical-align: middle;\n",
       "    }\n",
       "\n",
       "    .dataframe tbody tr th {\n",
       "        vertical-align: top;\n",
       "    }\n",
       "\n",
       "    .dataframe thead th {\n",
       "        text-align: right;\n",
       "    }\n",
       "</style>\n",
       "<table border=\"1\" class=\"dataframe\">\n",
       "  <thead>\n",
       "    <tr style=\"text-align: right;\">\n",
       "      <th></th>\n",
       "      <th>movieId</th>\n",
       "      <th>title</th>\n",
       "      <th>genres</th>\n",
       "    </tr>\n",
       "  </thead>\n",
       "  <tbody>\n",
       "    <tr>\n",
       "      <th>0</th>\n",
       "      <td>54001</td>\n",
       "      <td>Harry Potter and the Order of the Phoenix 2007</td>\n",
       "      <td>Adventure Drama Fantasy IMAX</td>\n",
       "    </tr>\n",
       "    <tr>\n",
       "      <th>1</th>\n",
       "      <td>4896</td>\n",
       "      <td>Harry Potter and the Sorcerers Stone aka Harry...</td>\n",
       "      <td>Adventure Children Fantasy</td>\n",
       "    </tr>\n",
       "    <tr>\n",
       "      <th>2</th>\n",
       "      <td>131168</td>\n",
       "      <td>Phoenix 2014</td>\n",
       "      <td>Drama</td>\n",
       "    </tr>\n",
       "  </tbody>\n",
       "</table>\n",
       "</div>"
      ],
      "text/plain": [
       "   movieId                                              title   \n",
       "0    54001     Harry Potter and the Order of the Phoenix 2007  \\\n",
       "1     4896  Harry Potter and the Sorcerers Stone aka Harry...   \n",
       "2   131168                                       Phoenix 2014   \n",
       "\n",
       "                         genres  \n",
       "0  Adventure Drama Fantasy IMAX  \n",
       "1    Adventure Children Fantasy  \n",
       "2                         Drama  "
      ]
     },
     "execution_count": 18,
     "metadata": {},
     "output_type": "execute_result"
    }
   ],
   "source": [
    "#Testing the function\n",
    "title_searcher(\"potter harry phoenix\",3)"
   ]
  },
  {
   "cell_type": "code",
   "execution_count": 19,
   "metadata": {},
   "outputs": [],
   "source": [
    "#This function takes genre names as an input and \n",
    "#retrieves most related movies with the given genres\n",
    "#with over %60 of similarity.\n",
    "def genre_searcher(input_word):\n",
    "    returned_vector = vectorizer_genre.transform([input_word])\n",
    "    cosine_similarities = cosine_similarity(returned_vector,tfidf_genre)\n",
    "    most_similar_indexes = np.where(cosine_similarities[0] > 0.6)[0]\n",
    "    sorted_indexes = np.argsort(cosine_similarities[0])[::-1]\n",
    "    return movies_df.iloc[sorted_indexes[most_similar_indexes]].reset_index(drop = True)"
   ]
  },
  {
   "cell_type": "code",
   "execution_count": 20,
   "metadata": {},
   "outputs": [
    {
     "data": {
      "text/html": [
       "<div>\n",
       "<style scoped>\n",
       "    .dataframe tbody tr th:only-of-type {\n",
       "        vertical-align: middle;\n",
       "    }\n",
       "\n",
       "    .dataframe tbody tr th {\n",
       "        vertical-align: top;\n",
       "    }\n",
       "\n",
       "    .dataframe thead th {\n",
       "        text-align: right;\n",
       "    }\n",
       "</style>\n",
       "<table border=\"1\" class=\"dataframe\">\n",
       "  <thead>\n",
       "    <tr style=\"text-align: right;\">\n",
       "      <th></th>\n",
       "      <th>movieId</th>\n",
       "      <th>title</th>\n",
       "      <th>genres</th>\n",
       "    </tr>\n",
       "  </thead>\n",
       "  <tbody>\n",
       "    <tr>\n",
       "      <th>0</th>\n",
       "      <td>85401</td>\n",
       "      <td>Super 2010</td>\n",
       "      <td>Action Comedy Drama</td>\n",
       "    </tr>\n",
       "    <tr>\n",
       "      <th>1</th>\n",
       "      <td>438</td>\n",
       "      <td>Cowboy Way The 1994</td>\n",
       "      <td>Action Comedy Drama</td>\n",
       "    </tr>\n",
       "    <tr>\n",
       "      <th>2</th>\n",
       "      <td>2170</td>\n",
       "      <td>Wrongfully Accused 1998</td>\n",
       "      <td>Action Comedy</td>\n",
       "    </tr>\n",
       "    <tr>\n",
       "      <th>3</th>\n",
       "      <td>92698</td>\n",
       "      <td>Israeli Intelligence Hamosad Hasagur 2007</td>\n",
       "      <td>Action Comedy</td>\n",
       "    </tr>\n",
       "    <tr>\n",
       "      <th>4</th>\n",
       "      <td>99478</td>\n",
       "      <td>FDR American Badass 2012</td>\n",
       "      <td>Action Comedy</td>\n",
       "    </tr>\n",
       "    <tr>\n",
       "      <th>5</th>\n",
       "      <td>32551</td>\n",
       "      <td>Speedy 1928</td>\n",
       "      <td>Action Comedy</td>\n",
       "    </tr>\n",
       "    <tr>\n",
       "      <th>6</th>\n",
       "      <td>106064</td>\n",
       "      <td>Race 2008</td>\n",
       "      <td>Action Comedy</td>\n",
       "    </tr>\n",
       "    <tr>\n",
       "      <th>7</th>\n",
       "      <td>119029</td>\n",
       "      <td>Hit Squad 1976</td>\n",
       "      <td>Action Comedy</td>\n",
       "    </tr>\n",
       "    <tr>\n",
       "      <th>8</th>\n",
       "      <td>119035</td>\n",
       "      <td>Swindle 1977</td>\n",
       "      <td>Action Comedy</td>\n",
       "    </tr>\n",
       "    <tr>\n",
       "      <th>9</th>\n",
       "      <td>119039</td>\n",
       "      <td>The Gang That Sold America 1979</td>\n",
       "      <td>Action Comedy</td>\n",
       "    </tr>\n",
       "  </tbody>\n",
       "</table>\n",
       "</div>"
      ],
      "text/plain": [
       "   movieId                                      title               genres\n",
       "0    85401                                 Super 2010  Action Comedy Drama\n",
       "1      438                        Cowboy Way The 1994  Action Comedy Drama\n",
       "2     2170                    Wrongfully Accused 1998        Action Comedy\n",
       "3    92698  Israeli Intelligence Hamosad Hasagur 2007        Action Comedy\n",
       "4    99478                   FDR American Badass 2012        Action Comedy\n",
       "5    32551                                Speedy 1928        Action Comedy\n",
       "6   106064                                  Race 2008        Action Comedy\n",
       "7   119029                             Hit Squad 1976        Action Comedy\n",
       "8   119035                               Swindle 1977        Action Comedy\n",
       "9   119039            The Gang That Sold America 1979        Action Comedy"
      ]
     },
     "execution_count": 20,
     "metadata": {},
     "output_type": "execute_result"
    }
   ],
   "source": [
    "#Testing the function\n",
    "genre_searcher(\"action drama comedy\").head(10)"
   ]
  },
  {
   "cell_type": "code",
   "execution_count": 21,
   "metadata": {},
   "outputs": [],
   "source": [
    "#The main function\n",
    "def content_based(input_word, top_n = 5, return_df = False):\n",
    "    movie_name = title_searcher(input_word)\n",
    "    genre = movie_name['genres'].iloc[0]\n",
    "    similar_movies = genre_searcher(genre)\n",
    "\n",
    "    #Now we we can use similar_movies dataframe on our very first function\n",
    "    #to find out which one of these movies are the most popular ones\n",
    "    \n",
    "    return popularity_based(top_n = top_n, movies_df = similar_movies, \n",
    "                     purpose= \"content\", movie_name=movie_name['title'].iloc[0],\n",
    "                     return_df = return_df)"
   ]
  },
  {
   "cell_type": "code",
   "execution_count": 51,
   "metadata": {},
   "outputs": [
    {
     "name": "stdout",
     "output_type": "stream",
     "text": [
      "Top 5 movies similar with Lord of the Rings The Fellowship of the Ring The 2001:\n",
      "1: Godfather The 1972\n",
      "2: Good Will Hunting 1997\n",
      "3: Taxi Driver 1976\n",
      "4: Full Metal Jacket 1987\n",
      "5: Citizen Kane 1941\n",
      "\n",
      "You may also like these hidden gems:\n",
      "1: Rififi Du rififi chez les hommes 1955\n",
      "2: Matewan 1987\n"
     ]
    }
   ],
   "source": [
    "#Testing the function\n",
    "content_based(\"rings fellowship\",5)"
   ]
  },
  {
   "cell_type": "code",
   "execution_count": 23,
   "metadata": {},
   "outputs": [
    {
     "data": {
      "text/html": [
       "<div>\n",
       "<style scoped>\n",
       "    .dataframe tbody tr th:only-of-type {\n",
       "        vertical-align: middle;\n",
       "    }\n",
       "\n",
       "    .dataframe tbody tr th {\n",
       "        vertical-align: top;\n",
       "    }\n",
       "\n",
       "    .dataframe thead th {\n",
       "        text-align: right;\n",
       "    }\n",
       "</style>\n",
       "<table border=\"1\" class=\"dataframe\">\n",
       "  <thead>\n",
       "    <tr style=\"text-align: right;\">\n",
       "      <th></th>\n",
       "      <th>movieId</th>\n",
       "      <th>title</th>\n",
       "      <th>genres</th>\n",
       "      <th>rating</th>\n",
       "      <th>count</th>\n",
       "    </tr>\n",
       "  </thead>\n",
       "  <tbody>\n",
       "    <tr>\n",
       "      <th>256</th>\n",
       "      <td>858</td>\n",
       "      <td>Godfather The 1972</td>\n",
       "      <td>Crime Drama</td>\n",
       "      <td>4.364732</td>\n",
       "      <td>41355</td>\n",
       "    </tr>\n",
       "    <tr>\n",
       "      <th>283</th>\n",
       "      <td>1704</td>\n",
       "      <td>Good Will Hunting 1997</td>\n",
       "      <td>Drama Romance</td>\n",
       "      <td>4.032517</td>\n",
       "      <td>28324</td>\n",
       "    </tr>\n",
       "    <tr>\n",
       "      <th>259</th>\n",
       "      <td>111</td>\n",
       "      <td>Taxi Driver 1976</td>\n",
       "      <td>Crime Drama Thriller</td>\n",
       "      <td>4.110576</td>\n",
       "      <td>24481</td>\n",
       "    </tr>\n",
       "    <tr>\n",
       "      <th>292</th>\n",
       "      <td>1222</td>\n",
       "      <td>Full Metal Jacket 1987</td>\n",
       "      <td>Drama War</td>\n",
       "      <td>4.033180</td>\n",
       "      <td>21926</td>\n",
       "    </tr>\n",
       "    <tr>\n",
       "      <th>289</th>\n",
       "      <td>923</td>\n",
       "      <td>Citizen Kane 1941</td>\n",
       "      <td>Drama Mystery</td>\n",
       "      <td>4.130443</td>\n",
       "      <td>17774</td>\n",
       "    </tr>\n",
       "  </tbody>\n",
       "</table>\n",
       "</div>"
      ],
      "text/plain": [
       "     movieId                   title                genres    rating  count\n",
       "256      858      Godfather The 1972           Crime Drama  4.364732  41355\n",
       "283     1704  Good Will Hunting 1997         Drama Romance  4.032517  28324\n",
       "259      111        Taxi Driver 1976  Crime Drama Thriller  4.110576  24481\n",
       "292     1222  Full Metal Jacket 1987             Drama War  4.033180  21926\n",
       "289      923       Citizen Kane 1941         Drama Mystery  4.130443  17774"
      ]
     },
     "execution_count": 23,
     "metadata": {},
     "output_type": "execute_result"
    }
   ],
   "source": [
    "content_based(\"lord rings fellowship\",5, return_df= True)"
   ]
  },
  {
   "cell_type": "markdown",
   "metadata": {},
   "source": [
    "### **Collaborative Filter**"
   ]
  },
  {
   "cell_type": "code",
   "execution_count": 24,
   "metadata": {},
   "outputs": [],
   "source": [
    "#This function takes a movie name as an input and then returns related movies.\n",
    "#Related movies will be decided by which users liked this movie and what other movies\n",
    "#commonly liked by these users."
   ]
  },
  {
   "cell_type": "code",
   "execution_count": 25,
   "metadata": {},
   "outputs": [],
   "source": [
    "def collaborative(input_word, top_n = 5 , ratings_df = ratings_df, movies_df = movies_df,\n",
    "                  return_df  = False):\n",
    "    #First we collect the movie name and movie id.\n",
    "    movie_name = title_searcher(input_word)['title'].iloc[0]\n",
    "    movie_id = title_searcher(input_word)['movieId'].iloc[0]\n",
    "    \n",
    "    #Finding the users who liked this movie\n",
    "    user_ids = ratings_df[(ratings_df['movieId'] == movie_id) & \n",
    "                          (ratings_df['rating'] >=  4.5)]['userId'].tolist()\n",
    "\n",
    "    #Movies commonly liked by these users\n",
    "    common_movies = ratings_df[(ratings_df['userId'].isin(user_ids)) & \n",
    "                               (ratings_df['rating'] >= 4.5) & \n",
    "                               (ratings_df['movieId'] != movie_id)]\n",
    "    #Find out which one of them are liked by at least %25 of these users\n",
    "    common_movies = pd.DataFrame(common_movies['movieId'].value_counts()).reset_index()\n",
    "    common_movies = common_movies[common_movies['count'] > 0.25*len(user_ids)]\n",
    "    \n",
    "    #Merging tables to get movie names and movie ratings\n",
    "    mean_ratings = ratings_df[['movieId','rating']].groupby('movieId',as_index=False).apply(\"mean\")\n",
    "    common_movies = pd.merge(common_movies,movies_df, on='movieId')\n",
    "    common_movies = pd.merge(common_movies,mean_ratings, on='movieId')\n",
    "\n",
    "    #Filtering only the top_n movies\n",
    "    common_movies = common_movies.head(top_n)\n",
    "\n",
    "    if return_df == False:\n",
    "        print(f\"People who liked {movie_name} liked these movies too.\")\n",
    "        for i,movie in enumerate(common_movies['title']):\n",
    "            print(f\"{i+1}: {movie}\")\n",
    "    else:\n",
    "        return common_movies\n",
    "\n",
    "    "
   ]
  },
  {
   "cell_type": "code",
   "execution_count": 52,
   "metadata": {},
   "outputs": [
    {
     "name": "stdout",
     "output_type": "stream",
     "text": [
      "People who liked Batman The Dark Knight Returns Part 1 2012 liked these movies too.\n",
      "1: Dark Knight The 2008\n",
      "2: Matrix The 1999\n",
      "3: Dark Knight Rises The 2012\n",
      "4: Batman The Dark Knight Returns Part 2 2013\n",
      "5: Batman Begins 2005\n"
     ]
    }
   ],
   "source": [
    "#Testing the function\n",
    "collaborative(\"dark knight returns\")"
   ]
  },
  {
   "cell_type": "markdown",
   "metadata": {},
   "source": [
    "### **Matrix Factorization**"
   ]
  },
  {
   "cell_type": "code",
   "execution_count": 27,
   "metadata": {},
   "outputs": [],
   "source": [
    "#Loading and preprocessing data.\n",
    "reader = Reader(rating_scale= (1,5))\n",
    "size = 1.0\n",
    "data = Dataset.load_from_df(ratings_df[['userId','movieId','rating']].head(int(len(ratings_df)*size)), reader)\n",
    "\n",
    "#Train test splitting\n",
    "train_set, test_set = train_test_split(data, test_size = 0.2, random_state= 42)"
   ]
  },
  {
   "cell_type": "code",
   "execution_count": 28,
   "metadata": {},
   "outputs": [
    {
     "data": {
      "text/plain": [
       "<surprise.prediction_algorithms.matrix_factorization.SVD at 0x7fd3a10bfe20>"
      ]
     },
     "execution_count": 28,
     "metadata": {},
     "output_type": "execute_result"
    }
   ],
   "source": [
    "#Using the SVD (Singular Value Decomposition)\n",
    "model = SVD(random_state= 42)\n",
    "model.fit(train_set)"
   ]
  },
  {
   "cell_type": "code",
   "execution_count": 29,
   "metadata": {},
   "outputs": [
    {
     "name": "stdout",
     "output_type": "stream",
     "text": [
      "MSE: 0.6186\n"
     ]
    }
   ],
   "source": [
    "#accuracy of the model\n",
    "predictions = model.test(test_set)\n",
    "mse = accuracy.mse(predictions)"
   ]
  },
  {
   "cell_type": "code",
   "execution_count": 36,
   "metadata": {},
   "outputs": [],
   "source": [
    "#Score could be increased with some parameter tuning but it takes around 2 hours to compute one model :)\n",
    "#I believe that the main idea here is creating the certain algorithms."
   ]
  },
  {
   "cell_type": "code",
   "execution_count": 37,
   "metadata": {},
   "outputs": [],
   "source": [
    "#Main function\n",
    "def matrix_factorization(user_id = 1, top_n = 5, movies_df = movies_df):\n",
    "    recommanedation_for_user = [(movie_id, model.predict(user_id,movie_id).est) for movie_id in movies_df['movieId']]\n",
    "    recommanedation_for_user = pd.DataFrame(recommanedation_for_user, columns=['movieId','estimation']).sort_values(by='estimation', ascending= False).head(top_n)\n",
    "    recommanedation_for_user = pd.merge(recommanedation_for_user,movies_df, on='movieId')\n",
    "    \n",
    "    print(f\"Top {top_n} recommendation for User '{user_id}':\")\n",
    "    for i,movie in enumerate(recommanedation_for_user['title']):\n",
    "        print(f\"{i+1}: {movie}\")"
   ]
  },
  {
   "cell_type": "code",
   "execution_count": 38,
   "metadata": {},
   "outputs": [
    {
     "name": "stdout",
     "output_type": "stream",
     "text": [
      "Top 5 recommendation for User '15':\n",
      "1: Day of the Doctor The 2013\n",
      "2: Frozen Planet 2011\n",
      "3: Come and See Idi i smotri 1985\n",
      "4: Schindlers List 1993\n",
      "5: City Lights 1931\n"
     ]
    }
   ],
   "source": [
    "#Testing the function\n",
    "matrix_factorization(user_id= 15)"
   ]
  },
  {
   "cell_type": "code",
   "execution_count": 59,
   "metadata": {},
   "outputs": [
    {
     "name": "stdout",
     "output_type": "stream",
     "text": [
      "Top 7 recommendation for User '42':\n",
      "1: Interstellar 2014\n",
      "2: Forrest Gump 1994\n",
      "3: Braveheart 1995\n",
      "4: Matrix The 1999\n",
      "5: Shawshank Redemption The 1994\n",
      "6: Green Mile The 1999\n",
      "7: Gladiator 2000\n"
     ]
    }
   ],
   "source": [
    "matrix_factorization(user_id= 42, top_n = 7)"
   ]
  },
  {
   "cell_type": "code",
   "execution_count": 69,
   "metadata": {},
   "outputs": [
    {
     "name": "stdout",
     "output_type": "stream",
     "text": [
      "Top 5 recommendation for User '1904':\n",
      "1: Lord of the Rings The Return of the King The 2003\n",
      "2: Lord of the Rings The Fellowship of the Ring The 2001\n",
      "3: Lord of the Rings The Two Towers The 2002\n",
      "4: Star Wars Episode IV  A New Hope 1977\n",
      "5: Star Wars Episode V  The Empire Strikes Back 1980\n"
     ]
    }
   ],
   "source": [
    "matrix_factorization(user_id = 1904, top_n= 5)"
   ]
  },
  {
   "cell_type": "markdown",
   "metadata": {},
   "source": [
    "### **Hybrid Model**"
   ]
  },
  {
   "cell_type": "code",
   "execution_count": 40,
   "metadata": {},
   "outputs": [],
   "source": [
    "#In the hybrid model we are gonna combine content based and collaborative recommendation algorithms.\n",
    "def hybrid_model(input_word, top_n = 5, return_df = False):\n",
    "    #Getting both collaborative and content based recommendations and taking top movies from each table.\n",
    "    df_collaborative = collaborative(input_word = input_word, top_n= top_n, return_df= True)\n",
    "    df_content_based = content_based(input_word = input_word, top_n= top_n, return_df= True)\n",
    "\n",
    "    i = 1\n",
    "    merged_df = []\n",
    "    #Getting first top_n /2 rows of two tables while dropping the duplicates\n",
    "    #until it reaches the length of top_n\n",
    "    while len(merged_df) < top_n:\n",
    "        merged_df = pd.concat([df_content_based.head(int(top_n/2 + i)),df_collaborative.head(int(top_n/2 +i))], axis = 0)\n",
    "        i+=1\n",
    "        merged_df = merged_df.drop_duplicates(keep = 'first')[['title', 'rating']]\n",
    "    \n",
    "    #Limiting the length of the final dataframe with top_n.\n",
    "    merged_df = merged_df.head(top_n).reset_index(drop = True)\n",
    "    movie_name = title_searcher(input_word)['title'].iloc[0]\n",
    "    if return_df == False:\n",
    "        print(f\"Top {top_n} movie recommendation for {movie_name}:\")\n",
    "        for i,movie in enumerate(merged_df['title']):\n",
    "            print(f\"{i+1}: {movie}\")\n",
    "    else:\n",
    "        return merged_df\n"
   ]
  },
  {
   "cell_type": "code",
   "execution_count": 42,
   "metadata": {},
   "outputs": [
    {
     "name": "stdout",
     "output_type": "stream",
     "text": [
      "Top 5 movie recommendation for Matrix The 1999:\n",
      "1: Forrest Gump 1994\n",
      "2: Braveheart 1995\n",
      "3: Schindlers List 1993\n",
      "4: Shawshank Redemption The 1994\n",
      "5: Fight Club 1999\n"
     ]
    }
   ],
   "source": [
    "hybrid_model(\"matrix\", 5)"
   ]
  },
  {
   "cell_type": "code",
   "execution_count": 49,
   "metadata": {},
   "outputs": [
    {
     "name": "stdout",
     "output_type": "stream",
     "text": [
      "Top 5 movie recommendation for Wolf of Wall Street The 2013:\n",
      "1: Star Wars Episode V  The Empire Strikes Back 1980\n",
      "2: Saving Private Ryan 1998\n",
      "3: Lord of the Rings The Return of the King The 2003\n",
      "4: Shawshank Redemption The 1994\n",
      "5: Inception 2010\n"
     ]
    }
   ],
   "source": [
    "hybrid_model(\"wolf of wall street\", 5)"
   ]
  },
  {
   "cell_type": "code",
   "execution_count": 58,
   "metadata": {},
   "outputs": [
    {
     "name": "stdout",
     "output_type": "stream",
     "text": [
      "Top 5 movie recommendation for Saw V 2008:\n",
      "1: Silence of the Lambs The 1991\n",
      "2: Star Wars Episode VI  Return of the Jedi 1983\n",
      "3: Fargo 1996\n",
      "4: Saw 2004\n",
      "5: Saw IV 2007\n"
     ]
    }
   ],
   "source": [
    "hybrid_model(\"saw\")"
   ]
  },
  {
   "cell_type": "code",
   "execution_count": null,
   "metadata": {},
   "outputs": [],
   "source": []
  }
 ],
 "metadata": {
  "kernelspec": {
   "display_name": "base",
   "language": "python",
   "name": "python3"
  },
  "language_info": {
   "codemirror_mode": {
    "name": "ipython",
    "version": 3
   },
   "file_extension": ".py",
   "mimetype": "text/x-python",
   "name": "python",
   "nbconvert_exporter": "python",
   "pygments_lexer": "ipython3",
   "version": "3.9.17"
  }
 },
 "nbformat": 4,
 "nbformat_minor": 2
}
